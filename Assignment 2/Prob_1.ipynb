{
 "cells": [
  {
   "cell_type": "code",
   "execution_count": 1,
   "id": "a24c07be-0ec4-494b-87f7-2ca039c3ca01",
   "metadata": {},
   "outputs": [
    {
     "name": "stderr",
     "output_type": "stream",
     "text": [
      "[nltk_data] Downloading package punkt to C:\\Users\\divya/nltk_data...\n",
      "[nltk_data]   Package punkt is already up-to-date!\n",
      "[nltk_data] Downloading package stopwords to\n",
      "[nltk_data]     C:\\Users\\divya/nltk_data...\n",
      "[nltk_data]   Package stopwords is already up-to-date!\n"
     ]
    },
    {
     "data": {
      "text/plain": [
       "True"
      ]
     },
     "execution_count": 1,
     "metadata": {},
     "output_type": "execute_result"
    }
   ],
   "source": [
    "# sms_spam_classifier.py\n",
    "\n",
    "import pandas as pd\n",
    "import numpy as np\n",
    "import re\n",
    "import nltk\n",
    "from nltk.corpus import stopwords\n",
    "from sklearn.model_selection import train_test_split\n",
    "from sklearn.linear_model import LogisticRegression\n",
    "from gensim.models import KeyedVectors\n",
    "\n",
    "nltk.download('punkt')\n",
    "nltk.download('stopwords')"
   ]
  },
  {
   "cell_type": "code",
   "execution_count": 3,
   "id": "14b24373-0fbe-4569-aedd-b112336c88d1",
   "metadata": {},
   "outputs": [],
   "source": [
    "# 1. Load data (assuming DataFrame df with columns 'Label','Message')\n",
    "df = pd.read_csv('spam.csv', encoding='latin-1')[['v1','v2']].rename(columns={'v1':'Label','v2':'Message'})\n",
    "\n",
    "# 2. Clean & tokenize\n",
    "stopwords_set = set(stopwords.words('english'))\n",
    "def preprocess_sms(text):\n",
    "    tokens = nltk.word_tokenize(text.lower())\n",
    "    return [w for w in tokens if w.isalpha() and w not in stopwords_set]\n",
    "\n",
    "df['tokens'] = df['Message'].map(preprocess_sms)"
   ]
  },
  {
   "cell_type": "code",
   "execution_count": 12,
   "id": "eca3a32b-5c75-4f58-8844-f818febcbf42",
   "metadata": {},
   "outputs": [],
   "source": [
    "import gensim.downloader as api\n",
    "\n",
    "# Load the pre-trained Google News Word2Vec model (this downloads and caches it)\n",
    "w2v_model = api.load(\"word2vec-google-news-300\")"
   ]
  },
  {
   "cell_type": "code",
   "execution_count": 13,
   "id": "2841f289-264f-4f23-941c-8fa75a4e2ec0",
   "metadata": {},
   "outputs": [],
   "source": [
    "# 4. Message → average word vectors\n",
    "def text_to_vec(tokens, model, size=300):\n",
    "    vecs = [model[w] for w in tokens if w in model]\n",
    "    return np.mean(vecs, axis=0) if vecs else np.zeros(size)\n",
    "\n",
    "df['vec'] = df['tokens'].map(lambda toks: text_to_vec(toks, w2v_model))"
   ]
  },
  {
   "cell_type": "code",
   "execution_count": 24,
   "id": "9670e2dc-8f30-4e7b-baef-df509196364d",
   "metadata": {},
   "outputs": [
    {
     "name": "stdout",
     "output_type": "stream",
     "text": [
      "SMS Spam Classification Accuracy: 0.9417\n"
     ]
    }
   ],
   "source": [
    "# 5. Train/test split\n",
    "X = np.vstack(df['vec'].values)\n",
    "y = (df['Label'] == 'spam').astype(int)\n",
    "X_train, X_test, y_train, y_test = train_test_split(X, y, test_size=0.2, random_state=42)\n",
    "\n",
    "# 6. Train & evaluate\n",
    "clf = LogisticRegression(max_iter=1000)\n",
    "clf.fit(X_train, y_train)\n",
    "acc = clf.score(X_test, y_test)\n",
    "print(f\"SMS Spam Classification Accuracy: {acc:.4f}\")"
   ]
  },
  {
   "cell_type": "code",
   "execution_count": 21,
   "id": "d9f6a088-3aab-4be5-b502-06ccd52cd374",
   "metadata": {},
   "outputs": [],
   "source": [
    "# 7. Prediction function\n",
    "def predict_message_class(classifier, w2v_model, message):\n",
    "    tokens = preprocess_sms(message)\n",
    "    vec = text_to_vec(tokens, w2v_model).reshape(1, -1)\n",
    "    pred = classifier.predict(vec)[0]\n",
    "    return 'spam' if pred == 1 else 'ham'"
   ]
  },
  {
   "cell_type": "code",
   "execution_count": 23,
   "id": "dc4a4f1a-a15b-414b-afd0-d92d1f1c31ae",
   "metadata": {},
   "outputs": [
    {
     "name": "stdout",
     "output_type": "stream",
     "text": [
      "Message: Congratulations! You’ve won a $1000 Walmart gift card. Click here to claim now.\n",
      "Predicted Class: spam\n",
      "\n",
      "Message: Hey, we are still meeting for lunch today at 1 PM?\n",
      "Predicted Class: ham\n"
     ]
    }
   ],
   "source": [
    "message1 = \"Congratulations! You’ve won a $1000 Walmart gift card. Click here to claim now.\"\n",
    "prediction1 = predict_message_class(clf, w2v_model, message1)\n",
    "print(f\"Message: {message1}\\nPredicted Class: {prediction1}\\n\")\n",
    "\n",
    "message2 = \"Hey, we are still meeting for lunch today at 1 PM?\"\n",
    "prediction2 = predict_message_class(clf, w2v_model, message2)\n",
    "print(f\"Message: {message2}\\nPredicted Class: {prediction2}\")"
   ]
  },
  {
   "cell_type": "markdown",
   "id": "04c0e7fa-3b4c-441e-b637-d03ad49935ea",
   "metadata": {},
   "source": [
    "# "
   ]
  }
 ],
 "metadata": {
  "kernelspec": {
   "display_name": "Python 3 (ipykernel)",
   "language": "python",
   "name": "python3"
  },
  "language_info": {
   "codemirror_mode": {
    "name": "ipython",
    "version": 3
   },
   "file_extension": ".py",
   "mimetype": "text/x-python",
   "name": "python",
   "nbconvert_exporter": "python",
   "pygments_lexer": "ipython3",
   "version": "3.9.19"
  }
 },
 "nbformat": 4,
 "nbformat_minor": 5
}
