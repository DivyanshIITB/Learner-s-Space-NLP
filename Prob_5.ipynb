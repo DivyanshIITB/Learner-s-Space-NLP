{
 "cells": [
  {
   "cell_type": "code",
   "execution_count": 1,
   "id": "7fc86a34-60d6-479d-a94f-a09bd1f2a0a8",
   "metadata": {},
   "outputs": [],
   "source": [
    "import pandas as pd\n",
    "import numpy as np"
   ]
  },
  {
   "cell_type": "code",
   "execution_count": 2,
   "id": "a9736efd-3c5b-44ba-ab0f-36093541fcf0",
   "metadata": {},
   "outputs": [],
   "source": [
    "good_feedbacks = [\"This product is amazing, highly recommended!\" for _ in range(50)]\n",
    "bad_feedbacks = [\"Terrible experience, I want a refund.\" for _ in range(50)]"
   ]
  },
  {
   "cell_type": "code",
   "execution_count": 3,
   "id": "81f7db7e-1914-489e-9e3b-c25e59fd15a9",
   "metadata": {},
   "outputs": [
    {
     "name": "stdout",
     "output_type": "stream",
     "text": [
      "                                       Feedback Label\n",
      "0         Terrible experience, I want a refund.   bad\n",
      "1         Terrible experience, I want a refund.   bad\n",
      "2         Terrible experience, I want a refund.   bad\n",
      "3  This product is amazing, highly recommended!  good\n",
      "4  This product is amazing, highly recommended!  good\n"
     ]
    }
   ],
   "source": [
    "texts = good_feedbacks + bad_feedbacks\n",
    "labels = [\"good\"] * 50 + [\"bad\"] * 50\n",
    "\n",
    "df = pd.DataFrame({'Feedback': texts, 'Label': labels})\n",
    "df = df.sample(frac=1, random_state=42).reset_index(drop=True)\n",
    "\n",
    "print(df.head())"
   ]
  },
  {
   "cell_type": "code",
   "execution_count": 4,
   "id": "69687720-ab7a-4d1b-ab88-25f6db34d3e6",
   "metadata": {},
   "outputs": [],
   "source": [
    "from sklearn.feature_extraction.text import TfidfVectorizer\n",
    "\n",
    "vectorizer = TfidfVectorizer(max_features=300, stop_words='english', lowercase=True)\n",
    "X = vectorizer.fit_transform(df['Feedback'])\n",
    "y = df['Label']"
   ]
  },
  {
   "cell_type": "code",
   "execution_count": 5,
   "id": "427ed4bd-5d8a-4d72-9e5f-f6254657760d",
   "metadata": {},
   "outputs": [],
   "source": [
    "from sklearn.model_selection import train_test_split\n",
    "\n",
    "X_train, X_test, y_train, y_test = train_test_split(X, y, test_size=0.25, random_state=42)"
   ]
  },
  {
   "cell_type": "code",
   "execution_count": 9,
   "id": "7dbec2dd-a382-4e3a-8d16-6584c38d4696",
   "metadata": {},
   "outputs": [
    {
     "name": "stdout",
     "output_type": "stream",
     "text": [
      "              precision    recall  f1-score   support\n",
      "\n",
      "         bad      1.000     1.000     1.000         8\n",
      "        good      1.000     1.000     1.000        17\n",
      "\n",
      "    accuracy                          1.000        25\n",
      "   macro avg      1.000     1.000     1.000        25\n",
      "weighted avg      1.000     1.000     1.000        25\n",
      "\n"
     ]
    }
   ],
   "source": [
    "from sklearn.linear_model import LogisticRegression\n",
    "from sklearn.metrics import classification_report\n",
    "\n",
    "model = LogisticRegression()\n",
    "model.fit(X_train, y_train)\n",
    "\n",
    "#Evaluate on test set\n",
    "y_pred = model.predict(X_test)\n",
    "print(classification_report(y_test, y_pred, digits=3))"
   ]
  },
  {
   "cell_type": "code",
   "execution_count": 10,
   "id": "3e6c7eca-7162-457c-91e4-e834955bdf24",
   "metadata": {},
   "outputs": [],
   "source": [
    "def  text_preprocess_vectorize(texts, vectorizer):\n",
    "    return vectorizer.transform(texts)"
   ]
  },
  {
   "cell_type": "code",
   "execution_count": 12,
   "id": "40e7a67a-fb5f-4a7d-a494-aff89b3024c0",
   "metadata": {},
   "outputs": [
    {
     "name": "stdout",
     "output_type": "stream",
     "text": [
      "Predictions: ['bad' 'good']\n"
     ]
    }
   ],
   "source": [
    "sample_feedback = [\"I really loved the build quality\", \"Worst product ever\"]\n",
    "X_sample = text_preprocess_vectorize(sample_feedback, vectorizer)\n",
    "print(\"Predictions:\", model.predict(X_sample))"
   ]
  },
  {
   "cell_type": "code",
   "execution_count": null,
   "id": "8e986db4-e1b8-44fc-887a-c35f815daa02",
   "metadata": {},
   "outputs": [],
   "source": [
    "# Predictions are completely wrong, this might happen since we have small synthetic dataset.\n",
    "# 'worst' may be ignored due to stop_words='english', or not in the top 300 TF-IDF terms"
   ]
  },
  {
   "cell_type": "code",
   "execution_count": null,
   "id": "de17cbfc-22a3-461e-ae86-17e26e4555e5",
   "metadata": {},
   "outputs": [],
   "source": []
  }
 ],
 "metadata": {
  "kernelspec": {
   "display_name": "Python 3 (ipykernel)",
   "language": "python",
   "name": "python3"
  },
  "language_info": {
   "codemirror_mode": {
    "name": "ipython",
    "version": 3
   },
   "file_extension": ".py",
   "mimetype": "text/x-python",
   "name": "python",
   "nbconvert_exporter": "python",
   "pygments_lexer": "ipython3",
   "version": "3.9.19"
  }
 },
 "nbformat": 4,
 "nbformat_minor": 5
}
