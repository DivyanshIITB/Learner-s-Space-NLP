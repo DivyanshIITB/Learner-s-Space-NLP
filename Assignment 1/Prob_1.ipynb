{
 "cells": [
  {
   "cell_type": "code",
   "execution_count": 1,
   "id": "d14ae4cb-7886-454d-9a92-f62ae41790ac",
   "metadata": {},
   "outputs": [],
   "source": [
    "import numpy as np"
   ]
  },
  {
   "cell_type": "code",
   "execution_count": 3,
   "id": "fce06ca1-2188-476a-b79f-6c063649aa9f",
   "metadata": {},
   "outputs": [],
   "source": [
    "arr = np.random.randint(low = 1, high = 50, size = (5,4))"
   ]
  },
  {
   "cell_type": "code",
   "execution_count": 5,
   "id": "331d00b0-d7ff-4c5f-bb07-3b0cdab08c2c",
   "metadata": {},
   "outputs": [
    {
     "data": {
      "text/plain": [
       "array([[36, 22, 25, 25],\n",
       "       [31, 15, 47, 32],\n",
       "       [41, 44, 46, 26],\n",
       "       [32, 39, 22, 18],\n",
       "       [ 9, 46, 25, 11]])"
      ]
     },
     "execution_count": 5,
     "metadata": {},
     "output_type": "execute_result"
    }
   ],
   "source": [
    "arr"
   ]
  },
  {
   "cell_type": "code",
   "execution_count": 7,
   "id": "b70b3e30-852f-4190-bee4-7d43f8941e68",
   "metadata": {},
   "outputs": [
    {
     "name": "stdout",
     "output_type": "stream",
     "text": [
      "Anti Diagonal:  [25 47 44 32]\n"
     ]
    }
   ],
   "source": [
    "anti_diag = np.fliplr(arr).diagonal()\n",
    "print(\"Anti Diagonal: \", anti_diag)"
   ]
  },
  {
   "cell_type": "code",
   "execution_count": 8,
   "id": "a1e1c666-d16e-4c39-a377-0b212a42d90b",
   "metadata": {},
   "outputs": [
    {
     "name": "stdout",
     "output_type": "stream",
     "text": [
      "Max of each row:  [36 47 46 39 46]\n"
     ]
    }
   ],
   "source": [
    "maximum = np.max(arr, axis = 1)\n",
    "print('Max of each row: ', maximum)"
   ]
  },
  {
   "cell_type": "code",
   "execution_count": 11,
   "id": "9aeeac2b-7e63-4a10-af39-b60a921ac382",
   "metadata": {},
   "outputs": [
    {
     "name": "stdout",
     "output_type": "stream",
     "text": [
      "29.6\n"
     ]
    }
   ],
   "source": [
    "mean = np.mean(arr)\n",
    "print(mean)"
   ]
  },
  {
   "cell_type": "code",
   "execution_count": 14,
   "id": "aafdff1b-1475-408a-922e-af172437ee2e",
   "metadata": {},
   "outputs": [
    {
     "data": {
      "text/plain": [
       "array([22, 25, 25, 15, 26, 22, 18,  9, 25, 11])"
      ]
     },
     "execution_count": 14,
     "metadata": {},
     "output_type": "execute_result"
    }
   ],
   "source": [
    "new_arr = arr[arr <= mean]\n",
    "new_arr"
   ]
  },
  {
   "cell_type": "code",
   "execution_count": 16,
   "id": "5c4f1559-5899-45fe-9b67-34eacb8202fd",
   "metadata": {},
   "outputs": [],
   "source": [
    "def numpy_boundary_traversal(matrix):\n",
    "    rows, cols = matrix.shape\n",
    "    boundary = []\n",
    "\n",
    "    boundary.extend(matrix[0, :])\n",
    "\n",
    "    if rows > 1:\n",
    "        boundary.extend(matrix[1:rows, cols-1])\n",
    "\n",
    "    if rows > 1:\n",
    "        boundary.extend(matrix[rows-1, cols-2 :: -1])\n",
    "\n",
    "    if rows > 2 and cols > 1:\n",
    "        boundary.extend(matrix[rows-2:0:-1, 0])\n",
    "    return list(boundary)"
   ]
  },
  {
   "cell_type": "code",
   "execution_count": 17,
   "id": "9aadc2be-e2f8-42f6-836d-760e1e214b92",
   "metadata": {},
   "outputs": [
    {
     "data": {
      "text/plain": [
       "[36, 22, 25, 25, 32, 26, 18, 11, 25, 46, 9, 32, 41, 31]"
      ]
     },
     "execution_count": 17,
     "metadata": {},
     "output_type": "execute_result"
    }
   ],
   "source": [
    "numpy_boundary_traversal(arr)"
   ]
  },
  {
   "cell_type": "code",
   "execution_count": null,
   "id": "d4b0e756-850c-4c0b-a6fc-f70599eb6d22",
   "metadata": {},
   "outputs": [],
   "source": []
  }
 ],
 "metadata": {
  "kernelspec": {
   "display_name": "Python 3 (ipykernel)",
   "language": "python",
   "name": "python3"
  },
  "language_info": {
   "codemirror_mode": {
    "name": "ipython",
    "version": 3
   },
   "file_extension": ".py",
   "mimetype": "text/x-python",
   "name": "python",
   "nbconvert_exporter": "python",
   "pygments_lexer": "ipython3",
   "version": "3.9.19"
  }
 },
 "nbformat": 4,
 "nbformat_minor": 5
}
