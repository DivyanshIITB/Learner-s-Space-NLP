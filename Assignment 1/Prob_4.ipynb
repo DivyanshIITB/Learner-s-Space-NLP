{
 "cells": [
  {
   "cell_type": "code",
   "execution_count": 1,
   "id": "3a021c64-464f-4b4f-bf68-47b4db3ebfe6",
   "metadata": {},
   "outputs": [],
   "source": [
    "import numpy as np\n",
    "import pandas as pd"
   ]
  },
  {
   "cell_type": "code",
   "execution_count": 2,
   "id": "d469c3ab-f236-49da-996e-bbeb9d8f754c",
   "metadata": {},
   "outputs": [],
   "source": [
    "positive_reviews = [\"I loved this movie! Absolutely fantastic.\" for _ in range(50)]\n",
    "negative_reviews = [\"Terrible film. I hated every second of it.\" for _ in range(50)]"
   ]
  },
  {
   "cell_type": "code",
   "execution_count": 3,
   "id": "5f60c1e0-d32d-4e76-a778-74c8dfc022ab",
   "metadata": {},
   "outputs": [],
   "source": [
    "reviews = positive_reviews + negative_reviews\n",
    "sentiments = ['positive'] * 50 + ['negative'] * 50"
   ]
  },
  {
   "cell_type": "code",
   "execution_count": 5,
   "id": "0a9219ea-b12d-402b-b5ca-3c9a83786796",
   "metadata": {},
   "outputs": [
    {
     "name": "stdout",
     "output_type": "stream",
     "text": [
      "Sample Data:                                         Review Sentiment\n",
      "0  Terrible film. I hated every second of it.  negative\n",
      "1  Terrible film. I hated every second of it.  negative\n",
      "2  Terrible film. I hated every second of it.  negative\n",
      "3   I loved this movie! Absolutely fantastic.  positive\n",
      "4   I loved this movie! Absolutely fantastic.  positive\n"
     ]
    }
   ],
   "source": [
    "df = pd.DataFrame({\n",
    "    \"Review\" : reviews,\n",
    "    \"Sentiment\" : sentiments\n",
    "}).sample(frac=1, random_state=42).reset_index(drop=True)\n",
    "\n",
    "print('Sample Data: ', df.head())"
   ]
  },
  {
   "cell_type": "code",
   "execution_count": 6,
   "id": "25adeee5-a2d2-4578-9346-2245e69fed4f",
   "metadata": {},
   "outputs": [],
   "source": [
    "from sklearn.feature_extraction.text import CountVectorizer\n",
    "\n",
    "vectorizer = CountVectorizer(stop_words='english', max_features=500)\n",
    "X = vectorizer.fit_transform(df[\"Review\"])"
   ]
  },
  {
   "cell_type": "code",
   "execution_count": 8,
   "id": "a83cf67b-62e4-4c2d-a110-ab33a97f060a",
   "metadata": {},
   "outputs": [],
   "source": [
    "from sklearn.model_selection import train_test_split\n",
    "\n",
    "y = df['Sentiment']\n",
    "X_train, X_test, y_train, y_test = train_test_split(X, y, train_size = 0.8, random_state = 42)"
   ]
  },
  {
   "cell_type": "code",
   "execution_count": 10,
   "id": "b0a29e73-e4de-47b4-8149-6a50fc530592",
   "metadata": {},
   "outputs": [
    {
     "name": "stdout",
     "output_type": "stream",
     "text": [
      "Accuracy on test set:  1.0\n"
     ]
    }
   ],
   "source": [
    "from sklearn.naive_bayes import MultinomialNB\n",
    "from sklearn.metrics import accuracy_score\n",
    "\n",
    "model = MultinomialNB()\n",
    "model.fit(X_train, y_train)\n",
    "\n",
    "#Predict and Evaluate\n",
    "y_pred = model.predict(X_test)\n",
    "accuracy = accuracy_score(y_test, y_pred)\n",
    "print('Accuracy on test set: ', accuracy)"
   ]
  },
  {
   "cell_type": "code",
   "execution_count": 13,
   "id": "2af15c7c-4cf6-4413-901e-6a569019a14e",
   "metadata": {},
   "outputs": [],
   "source": [
    "def predict_review_sentiment(model, vectorizer, review):\n",
    "    review_vector = vectorizer.transform([review])\n",
    "    return model.predict(review_vector)[0]"
   ]
  },
  {
   "cell_type": "code",
   "execution_count": 14,
   "id": "fe6facab-7c00-4fc8-943f-b9ddfa825ce8",
   "metadata": {},
   "outputs": [
    {
     "name": "stdout",
     "output_type": "stream",
     "text": [
      "Predicted Sentiment: negative\n"
     ]
    }
   ],
   "source": [
    "test_review = \"This was a masterpiece. Great acting and direction!\"\n",
    "print(\"Predicted Sentiment:\", predict_review_sentiment(model, vectorizer, test_review))"
   ]
  },
  {
   "cell_type": "code",
   "execution_count": null,
   "id": "0303b8c8-ebed-477b-b175-321a81822a07",
   "metadata": {},
   "outputs": [],
   "source": []
  }
 ],
 "metadata": {
  "kernelspec": {
   "display_name": "Python 3 (ipykernel)",
   "language": "python",
   "name": "python3"
  },
  "language_info": {
   "codemirror_mode": {
    "name": "ipython",
    "version": 3
   },
   "file_extension": ".py",
   "mimetype": "text/x-python",
   "name": "python",
   "nbconvert_exporter": "python",
   "pygments_lexer": "ipython3",
   "version": "3.9.19"
  }
 },
 "nbformat": 4,
 "nbformat_minor": 5
}
