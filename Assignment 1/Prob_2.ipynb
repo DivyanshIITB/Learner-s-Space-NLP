{
 "cells": [
  {
   "cell_type": "code",
   "execution_count": 18,
   "id": "874178d5-88ac-4cfc-a4e6-cc6933452057",
   "metadata": {},
   "outputs": [],
   "source": [
    "import numpy as np"
   ]
  },
  {
   "cell_type": "code",
   "execution_count": 23,
   "id": "14aeba92-aa85-4754-8c5c-110016e2bb8e",
   "metadata": {},
   "outputs": [
    {
     "name": "stdout",
     "output_type": "stream",
     "text": [
      "[3.44954073 2.4396528  2.030544   8.65293393 8.15935875 8.60850848\n",
      " 7.30271117 9.63326897 7.58916755 2.4417168  8.75401533 9.63454772\n",
      " 6.9514204  9.22461044 1.18633622 9.44064967 2.43377198 8.22760288\n",
      " 5.82655187 9.9167628 ]\n"
     ]
    }
   ],
   "source": [
    "arr = np.random.uniform(0, 10, 20)\n",
    "print(arr)"
   ]
  },
  {
   "cell_type": "code",
   "execution_count": 24,
   "id": "4d150981-6ce9-4030-a70e-0f4eb41b583c",
   "metadata": {},
   "outputs": [
    {
     "name": "stdout",
     "output_type": "stream",
     "text": [
      "[3.45 2.44 2.03 8.65 8.16 8.61 7.3  9.63 7.59 2.44 8.75 9.63 6.95 9.22\n",
      " 1.19 9.44 2.43 8.23 5.83 9.92]\n"
     ]
    }
   ],
   "source": [
    "arr = np.round(arr, 2)\n",
    "print(arr)"
   ]
  },
  {
   "cell_type": "code",
   "execution_count": 26,
   "id": "de5bb2ce-c456-410b-9d37-0eb9fde732c3",
   "metadata": {},
   "outputs": [
    {
     "name": "stdout",
     "output_type": "stream",
     "text": [
      "Minimum:  1.19\n",
      "Maximum:  9.92\n",
      "Median:  7.875\n"
     ]
    }
   ],
   "source": [
    "minimum = np.min(arr)\n",
    "maximum = np.max(arr)\n",
    "median = np.median(arr)\n",
    "print('Minimum: ', minimum)\n",
    "print('Maximum: ', maximum)\n",
    "print('Median: ', median)"
   ]
  },
  {
   "cell_type": "code",
   "execution_count": 27,
   "id": "8cabe5b8-19f2-4479-ba57-a233390ba4ce",
   "metadata": {},
   "outputs": [
    {
     "name": "stdout",
     "output_type": "stream",
     "text": [
      "Modified by replacing:  [11.9   5.95  4.12  8.65  8.16  8.61  7.3   9.63  7.59  5.95  8.75  9.63\n",
      "  6.95  9.22  1.42  9.44  5.9   8.23  5.83  9.92]\n"
     ]
    }
   ],
   "source": [
    "arr_modified = np.where(arr < 5, np.round(arr**2, 2), arr)\n",
    "print('Modified by replacing: ', arr_modified)"
   ]
  },
  {
   "cell_type": "code",
   "execution_count": 28,
   "id": "327c0b9b-0d0f-40fd-928d-96170bc94527",
   "metadata": {},
   "outputs": [],
   "source": [
    "def numpy_alternate_sort(array):\n",
    "    arr = np.sort(array)\n",
    "    result = []\n",
    "\n",
    "    left = 0;\n",
    "    right = len(arr) - 1\n",
    "\n",
    "    while left <= right:\n",
    "        result.append(arr[left])\n",
    "        if left != right:\n",
    "            result.append(arr[right])\n",
    "        left = left + 1\n",
    "        right = right - 1\n",
    "\n",
    "    return result"
   ]
  },
  {
   "cell_type": "code",
   "execution_count": 29,
   "id": "0a97809b-3bd8-4071-af8a-8ab740ba9125",
   "metadata": {},
   "outputs": [
    {
     "name": "stdout",
     "output_type": "stream",
     "text": [
      "[1.42, 11.9, 4.12, 9.92, 5.83, 9.63, 5.9, 9.63, 5.95, 9.44, 5.95, 9.22, 6.95, 8.75, 7.3, 8.65, 7.59, 8.61, 8.16, 8.23]\n"
     ]
    }
   ],
   "source": [
    "print(numpy_alternate_sort(arr_modified))"
   ]
  },
  {
   "cell_type": "code",
   "execution_count": null,
   "id": "0facef37-4c1b-4bb2-bea2-c7a69b442df2",
   "metadata": {},
   "outputs": [],
   "source": []
  }
 ],
 "metadata": {
  "kernelspec": {
   "display_name": "Python 3 (ipykernel)",
   "language": "python",
   "name": "python3"
  },
  "language_info": {
   "codemirror_mode": {
    "name": "ipython",
    "version": 3
   },
   "file_extension": ".py",
   "mimetype": "text/x-python",
   "name": "python",
   "nbconvert_exporter": "python",
   "pygments_lexer": "ipython3",
   "version": "3.9.19"
  }
 },
 "nbformat": 4,
 "nbformat_minor": 5
}
