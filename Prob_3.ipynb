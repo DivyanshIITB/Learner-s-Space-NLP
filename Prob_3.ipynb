{
 "cells": [
  {
   "cell_type": "code",
   "execution_count": 1,
   "id": "5305b6b7-df98-4a3a-bdaa-6acc957b812c",
   "metadata": {},
   "outputs": [],
   "source": [
    "import numpy as np\n",
    "import pandas as pd"
   ]
  },
  {
   "cell_type": "code",
   "execution_count": 2,
   "id": "522eeecc-1c6a-4278-80b7-d6127fd21088",
   "metadata": {},
   "outputs": [],
   "source": [
    "#Sample\n",
    "names = ['Alice', 'Bob', 'Charlie', 'David', 'Eva', 'Frank', 'Grace', 'Hannah', 'Ian', 'Jane']\n",
    "subjects = ['Math', 'Science', 'English', 'Math', 'English', 'Science', 'Math', 'English', 'Science', 'Math']"
   ]
  },
  {
   "cell_type": "code",
   "execution_count": 3,
   "id": "3eff914f-4636-4b43-9fee-eca2eb912769",
   "metadata": {},
   "outputs": [],
   "source": [
    "np.random.seed(42)\n",
    "scores = np.random.randint(50,101, size = 10)"
   ]
  },
  {
   "cell_type": "code",
   "execution_count": 6,
   "id": "b8e44d6b-b3ab-4fe2-ab56-ac09b6fd3d10",
   "metadata": {},
   "outputs": [
    {
     "name": "stdout",
     "output_type": "stream",
     "text": [
      "      Name  Subject  Score Grade\n",
      "0    Alice     Math     88      \n",
      "1      Bob  Science     78      \n",
      "2  Charlie  English     64      \n",
      "3    David     Math     92      \n",
      "4      Eva  English     57      \n",
      "5    Frank  Science     70      \n",
      "6    Grace     Math     88      \n",
      "7   Hannah  English     68      \n",
      "8      Ian  Science     72      \n",
      "9     Jane     Math     60      \n"
     ]
    }
   ],
   "source": [
    "#Dataframe\n",
    "df = pd.DataFrame({\n",
    "    'Name' : names,\n",
    "    'Subject' : subjects,\n",
    "    'Score' : scores,\n",
    "    'Grade' : ' '   #Initially Empty\n",
    "})\n",
    "\n",
    "print(df)"
   ]
  },
  {
   "cell_type": "code",
   "execution_count": 7,
   "id": "ddda33c3-6101-4028-9c57-3ce4b7092b36",
   "metadata": {},
   "outputs": [],
   "source": [
    "def assign_grade(score):\n",
    "    if score >= 90:\n",
    "        return 'A'\n",
    "    elif score >= 80:\n",
    "        return 'B'\n",
    "    elif score >= 70:\n",
    "        return 'C'\n",
    "    elif score >= 60:\n",
    "        return 'D'\n",
    "    else:\n",
    "        return 'F'\n",
    "\n",
    "df['Grade'] = df['Score'].apply(assign_grade)"
   ]
  },
  {
   "cell_type": "code",
   "execution_count": 8,
   "id": "79d72014-8073-4c30-8eb7-652d62ce0431",
   "metadata": {},
   "outputs": [
    {
     "name": "stdout",
     "output_type": "stream",
     "text": [
      "0    B\n",
      "1    C\n",
      "2    D\n",
      "3    A\n",
      "4    F\n",
      "5    C\n",
      "6    B\n",
      "7    D\n",
      "8    C\n",
      "9    D\n",
      "Name: Grade, dtype: object\n"
     ]
    }
   ],
   "source": [
    "print(df['Grade'])"
   ]
  },
  {
   "cell_type": "code",
   "execution_count": 9,
   "id": "bc153783-79e6-441e-aa10-c38970a5c0ab",
   "metadata": {},
   "outputs": [
    {
     "name": "stdout",
     "output_type": "stream",
     "text": [
      "\n",
      "Sorted by Score in Descending Order:\n",
      "       Name  Subject  Score Grade\n",
      "3    David     Math     92     A\n",
      "0    Alice     Math     88     B\n",
      "6    Grace     Math     88     B\n",
      "1      Bob  Science     78     C\n",
      "8      Ian  Science     72     C\n",
      "5    Frank  Science     70     C\n",
      "7   Hannah  English     68     D\n",
      "2  Charlie  English     64     D\n",
      "9     Jane     Math     60     D\n",
      "4      Eva  English     57     F\n"
     ]
    }
   ],
   "source": [
    "sorted_df = df.sort_values(by='Score', ascending = False)\n",
    "print(\"\\nSorted by Score in Descending Order:\\n\", sorted_df)"
   ]
  },
  {
   "cell_type": "code",
   "execution_count": 10,
   "id": "046a94d3-22a3-411e-a36f-30af6cfc9e6b",
   "metadata": {},
   "outputs": [
    {
     "name": "stdout",
     "output_type": "stream",
     "text": [
      "Avg score per subject:  Subject\n",
      "English    63.000000\n",
      "Math       82.000000\n",
      "Science    73.333333\n",
      "Name: Score, dtype: float64\n"
     ]
    }
   ],
   "source": [
    "avg_per_subject = df.groupby('Subject')['Score'].mean()\n",
    "print('Avg score per subject: ', avg_per_subject)"
   ]
  },
  {
   "cell_type": "code",
   "execution_count": 11,
   "id": "0f1a3df9-6e2a-4289-9d05-099bc4e26374",
   "metadata": {},
   "outputs": [],
   "source": [
    "def pandas_filter_pass(dataframe):\n",
    "    return dataframe[dataframe['Grade'].isin(['A', 'B'])]"
   ]
  },
  {
   "cell_type": "code",
   "execution_count": 12,
   "id": "5c6ec07a-4e35-4f8a-979b-183aa2cb1402",
   "metadata": {},
   "outputs": [
    {
     "name": "stdout",
     "output_type": "stream",
     "text": [
      "Students with grades A or B:      Name Subject  Score Grade\n",
      "0  Alice    Math     88     B\n",
      "3  David    Math     92     A\n",
      "6  Grace    Math     88     B\n"
     ]
    }
   ],
   "source": [
    "filtered_df = pandas_filter_pass(df)\n",
    "print('Students with grades A or B: ', filtered_df)"
   ]
  },
  {
   "cell_type": "code",
   "execution_count": null,
   "id": "4d44ce36-d26e-4609-9c77-c4bf2eaaa8b7",
   "metadata": {},
   "outputs": [],
   "source": []
  }
 ],
 "metadata": {
  "kernelspec": {
   "display_name": "Python 3 (ipykernel)",
   "language": "python",
   "name": "python3"
  },
  "language_info": {
   "codemirror_mode": {
    "name": "ipython",
    "version": 3
   },
   "file_extension": ".py",
   "mimetype": "text/x-python",
   "name": "python",
   "nbconvert_exporter": "python",
   "pygments_lexer": "ipython3",
   "version": "3.9.19"
  }
 },
 "nbformat": 4,
 "nbformat_minor": 5
}
